{
 "cells": [
  {
   "cell_type": "code",
   "execution_count": null,
   "id": "f9505823",
   "metadata": {
    "papermill": {
     "duration": 0.012252,
     "end_time": "2023-02-19T14:37:18.766354",
     "exception": false,
     "start_time": "2023-02-19T14:37:18.754102",
     "status": "completed"
    },
    "tags": []
   },
   "outputs": [],
   "source": []
  },
  {
   "cell_type": "code",
   "execution_count": 1,
   "id": "f91eb2d0",
   "metadata": {
    "_cell_guid": "b1076dfc-b9ad-4769-8c92-a6c4dae69d19",
    "_uuid": "8f2839f25d086af736a60e9eeb907d3b93b6e0e5",
    "execution": {
     "iopub.execute_input": "2023-02-19T14:37:18.791019Z",
     "iopub.status.busy": "2023-02-19T14:37:18.790459Z",
     "iopub.status.idle": "2023-02-19T14:37:18.813304Z",
     "shell.execute_reply": "2023-02-19T14:37:18.811608Z"
    },
    "papermill": {
     "duration": 0.03853,
     "end_time": "2023-02-19T14:37:18.816271",
     "exception": false,
     "start_time": "2023-02-19T14:37:18.777741",
     "status": "completed"
    },
    "tags": []
   },
   "outputs": [
    {
     "name": "stdout",
     "output_type": "stream",
     "text": [
      "/kaggle/input/wine-quality-dataset/WineQT.csv\n"
     ]
    }
   ],
   "source": [
    "# This Python 3 environment comes with many helpful analytics libraries installed\n",
    "# It is defined by the kaggle/python Docker image: https://github.com/kaggle/docker-python\n",
    "# For example, here's several helpful packages to load\n",
    "\n",
    "import numpy as np # linear algebra\n",
    "import pandas as pd # data processing, CSV file I/O (e.g. pd.read_csv)\n",
    "\n",
    "# Input data files are available in the read-only \"../input/\" directory\n",
    "# For example, running this (by clicking run or pressing Shift+Enter) will list all files under the input directory\n",
    "\n",
    "import os\n",
    "for dirname, _, filenames in os.walk('/kaggle/input'):\n",
    "    for filename in filenames:\n",
    "        print(os.path.join(dirname, filename))\n",
    "\n",
    "# You can write up to 20GB to the current directory (/kaggle/working/) that gets preserved as output when you create a version using \"Save & Run All\" \n",
    "# You can also write temporary files to /kaggle/temp/, but they won't be saved outside of the current session"
   ]
  },
  {
   "cell_type": "code",
   "execution_count": 2,
   "id": "456d80f3",
   "metadata": {
    "execution": {
     "iopub.execute_input": "2023-02-19T14:37:18.840402Z",
     "iopub.status.busy": "2023-02-19T14:37:18.839990Z",
     "iopub.status.idle": "2023-02-19T14:37:18.892961Z",
     "shell.execute_reply": "2023-02-19T14:37:18.891598Z"
    },
    "papermill": {
     "duration": 0.06792,
     "end_time": "2023-02-19T14:37:18.895412",
     "exception": false,
     "start_time": "2023-02-19T14:37:18.827492",
     "status": "completed"
    },
    "tags": []
   },
   "outputs": [
    {
     "data": {
      "text/html": [
       "<div>\n",
       "<style scoped>\n",
       "    .dataframe tbody tr th:only-of-type {\n",
       "        vertical-align: middle;\n",
       "    }\n",
       "\n",
       "    .dataframe tbody tr th {\n",
       "        vertical-align: top;\n",
       "    }\n",
       "\n",
       "    .dataframe thead th {\n",
       "        text-align: right;\n",
       "    }\n",
       "</style>\n",
       "<table border=\"1\" class=\"dataframe\">\n",
       "  <thead>\n",
       "    <tr style=\"text-align: right;\">\n",
       "      <th></th>\n",
       "      <th>fixed acidity</th>\n",
       "      <th>volatile acidity</th>\n",
       "      <th>citric acid</th>\n",
       "      <th>residual sugar</th>\n",
       "      <th>chlorides</th>\n",
       "      <th>free sulfur dioxide</th>\n",
       "      <th>total sulfur dioxide</th>\n",
       "      <th>density</th>\n",
       "      <th>pH</th>\n",
       "      <th>sulphates</th>\n",
       "      <th>alcohol</th>\n",
       "      <th>quality</th>\n",
       "      <th>Id</th>\n",
       "    </tr>\n",
       "  </thead>\n",
       "  <tbody>\n",
       "    <tr>\n",
       "      <th>0</th>\n",
       "      <td>7.4</td>\n",
       "      <td>0.700</td>\n",
       "      <td>0.00</td>\n",
       "      <td>1.9</td>\n",
       "      <td>0.076</td>\n",
       "      <td>11.0</td>\n",
       "      <td>34.0</td>\n",
       "      <td>0.99780</td>\n",
       "      <td>3.51</td>\n",
       "      <td>0.56</td>\n",
       "      <td>9.4</td>\n",
       "      <td>5</td>\n",
       "      <td>0</td>\n",
       "    </tr>\n",
       "    <tr>\n",
       "      <th>1</th>\n",
       "      <td>7.8</td>\n",
       "      <td>0.880</td>\n",
       "      <td>0.00</td>\n",
       "      <td>2.6</td>\n",
       "      <td>0.098</td>\n",
       "      <td>25.0</td>\n",
       "      <td>67.0</td>\n",
       "      <td>0.99680</td>\n",
       "      <td>3.20</td>\n",
       "      <td>0.68</td>\n",
       "      <td>9.8</td>\n",
       "      <td>5</td>\n",
       "      <td>1</td>\n",
       "    </tr>\n",
       "    <tr>\n",
       "      <th>2</th>\n",
       "      <td>7.8</td>\n",
       "      <td>0.760</td>\n",
       "      <td>0.04</td>\n",
       "      <td>2.3</td>\n",
       "      <td>0.092</td>\n",
       "      <td>15.0</td>\n",
       "      <td>54.0</td>\n",
       "      <td>0.99700</td>\n",
       "      <td>3.26</td>\n",
       "      <td>0.65</td>\n",
       "      <td>9.8</td>\n",
       "      <td>5</td>\n",
       "      <td>2</td>\n",
       "    </tr>\n",
       "    <tr>\n",
       "      <th>3</th>\n",
       "      <td>11.2</td>\n",
       "      <td>0.280</td>\n",
       "      <td>0.56</td>\n",
       "      <td>1.9</td>\n",
       "      <td>0.075</td>\n",
       "      <td>17.0</td>\n",
       "      <td>60.0</td>\n",
       "      <td>0.99800</td>\n",
       "      <td>3.16</td>\n",
       "      <td>0.58</td>\n",
       "      <td>9.8</td>\n",
       "      <td>6</td>\n",
       "      <td>3</td>\n",
       "    </tr>\n",
       "    <tr>\n",
       "      <th>4</th>\n",
       "      <td>7.4</td>\n",
       "      <td>0.700</td>\n",
       "      <td>0.00</td>\n",
       "      <td>1.9</td>\n",
       "      <td>0.076</td>\n",
       "      <td>11.0</td>\n",
       "      <td>34.0</td>\n",
       "      <td>0.99780</td>\n",
       "      <td>3.51</td>\n",
       "      <td>0.56</td>\n",
       "      <td>9.4</td>\n",
       "      <td>5</td>\n",
       "      <td>4</td>\n",
       "    </tr>\n",
       "    <tr>\n",
       "      <th>...</th>\n",
       "      <td>...</td>\n",
       "      <td>...</td>\n",
       "      <td>...</td>\n",
       "      <td>...</td>\n",
       "      <td>...</td>\n",
       "      <td>...</td>\n",
       "      <td>...</td>\n",
       "      <td>...</td>\n",
       "      <td>...</td>\n",
       "      <td>...</td>\n",
       "      <td>...</td>\n",
       "      <td>...</td>\n",
       "      <td>...</td>\n",
       "    </tr>\n",
       "    <tr>\n",
       "      <th>1138</th>\n",
       "      <td>6.3</td>\n",
       "      <td>0.510</td>\n",
       "      <td>0.13</td>\n",
       "      <td>2.3</td>\n",
       "      <td>0.076</td>\n",
       "      <td>29.0</td>\n",
       "      <td>40.0</td>\n",
       "      <td>0.99574</td>\n",
       "      <td>3.42</td>\n",
       "      <td>0.75</td>\n",
       "      <td>11.0</td>\n",
       "      <td>6</td>\n",
       "      <td>1592</td>\n",
       "    </tr>\n",
       "    <tr>\n",
       "      <th>1139</th>\n",
       "      <td>6.8</td>\n",
       "      <td>0.620</td>\n",
       "      <td>0.08</td>\n",
       "      <td>1.9</td>\n",
       "      <td>0.068</td>\n",
       "      <td>28.0</td>\n",
       "      <td>38.0</td>\n",
       "      <td>0.99651</td>\n",
       "      <td>3.42</td>\n",
       "      <td>0.82</td>\n",
       "      <td>9.5</td>\n",
       "      <td>6</td>\n",
       "      <td>1593</td>\n",
       "    </tr>\n",
       "    <tr>\n",
       "      <th>1140</th>\n",
       "      <td>6.2</td>\n",
       "      <td>0.600</td>\n",
       "      <td>0.08</td>\n",
       "      <td>2.0</td>\n",
       "      <td>0.090</td>\n",
       "      <td>32.0</td>\n",
       "      <td>44.0</td>\n",
       "      <td>0.99490</td>\n",
       "      <td>3.45</td>\n",
       "      <td>0.58</td>\n",
       "      <td>10.5</td>\n",
       "      <td>5</td>\n",
       "      <td>1594</td>\n",
       "    </tr>\n",
       "    <tr>\n",
       "      <th>1141</th>\n",
       "      <td>5.9</td>\n",
       "      <td>0.550</td>\n",
       "      <td>0.10</td>\n",
       "      <td>2.2</td>\n",
       "      <td>0.062</td>\n",
       "      <td>39.0</td>\n",
       "      <td>51.0</td>\n",
       "      <td>0.99512</td>\n",
       "      <td>3.52</td>\n",
       "      <td>0.76</td>\n",
       "      <td>11.2</td>\n",
       "      <td>6</td>\n",
       "      <td>1595</td>\n",
       "    </tr>\n",
       "    <tr>\n",
       "      <th>1142</th>\n",
       "      <td>5.9</td>\n",
       "      <td>0.645</td>\n",
       "      <td>0.12</td>\n",
       "      <td>2.0</td>\n",
       "      <td>0.075</td>\n",
       "      <td>32.0</td>\n",
       "      <td>44.0</td>\n",
       "      <td>0.99547</td>\n",
       "      <td>3.57</td>\n",
       "      <td>0.71</td>\n",
       "      <td>10.2</td>\n",
       "      <td>5</td>\n",
       "      <td>1597</td>\n",
       "    </tr>\n",
       "  </tbody>\n",
       "</table>\n",
       "<p>1143 rows × 13 columns</p>\n",
       "</div>"
      ],
      "text/plain": [
       "      fixed acidity  volatile acidity  citric acid  residual sugar  chlorides  \\\n",
       "0               7.4             0.700         0.00             1.9      0.076   \n",
       "1               7.8             0.880         0.00             2.6      0.098   \n",
       "2               7.8             0.760         0.04             2.3      0.092   \n",
       "3              11.2             0.280         0.56             1.9      0.075   \n",
       "4               7.4             0.700         0.00             1.9      0.076   \n",
       "...             ...               ...          ...             ...        ...   \n",
       "1138            6.3             0.510         0.13             2.3      0.076   \n",
       "1139            6.8             0.620         0.08             1.9      0.068   \n",
       "1140            6.2             0.600         0.08             2.0      0.090   \n",
       "1141            5.9             0.550         0.10             2.2      0.062   \n",
       "1142            5.9             0.645         0.12             2.0      0.075   \n",
       "\n",
       "      free sulfur dioxide  total sulfur dioxide  density    pH  sulphates  \\\n",
       "0                    11.0                  34.0  0.99780  3.51       0.56   \n",
       "1                    25.0                  67.0  0.99680  3.20       0.68   \n",
       "2                    15.0                  54.0  0.99700  3.26       0.65   \n",
       "3                    17.0                  60.0  0.99800  3.16       0.58   \n",
       "4                    11.0                  34.0  0.99780  3.51       0.56   \n",
       "...                   ...                   ...      ...   ...        ...   \n",
       "1138                 29.0                  40.0  0.99574  3.42       0.75   \n",
       "1139                 28.0                  38.0  0.99651  3.42       0.82   \n",
       "1140                 32.0                  44.0  0.99490  3.45       0.58   \n",
       "1141                 39.0                  51.0  0.99512  3.52       0.76   \n",
       "1142                 32.0                  44.0  0.99547  3.57       0.71   \n",
       "\n",
       "      alcohol  quality    Id  \n",
       "0         9.4        5     0  \n",
       "1         9.8        5     1  \n",
       "2         9.8        5     2  \n",
       "3         9.8        6     3  \n",
       "4         9.4        5     4  \n",
       "...       ...      ...   ...  \n",
       "1138     11.0        6  1592  \n",
       "1139      9.5        6  1593  \n",
       "1140     10.5        5  1594  \n",
       "1141     11.2        6  1595  \n",
       "1142     10.2        5  1597  \n",
       "\n",
       "[1143 rows x 13 columns]"
      ]
     },
     "execution_count": 2,
     "metadata": {},
     "output_type": "execute_result"
    }
   ],
   "source": [
    "df = pd.read_csv('/kaggle/input/wine-quality-dataset/WineQT.csv')\n",
    "df"
   ]
  },
  {
   "cell_type": "code",
   "execution_count": 3,
   "id": "b4f72516",
   "metadata": {
    "execution": {
     "iopub.execute_input": "2023-02-19T14:37:18.922536Z",
     "iopub.status.busy": "2023-02-19T14:37:18.922120Z",
     "iopub.status.idle": "2023-02-19T14:37:18.947073Z",
     "shell.execute_reply": "2023-02-19T14:37:18.945729Z"
    },
    "papermill": {
     "duration": 0.040976,
     "end_time": "2023-02-19T14:37:18.949802",
     "exception": false,
     "start_time": "2023-02-19T14:37:18.908826",
     "status": "completed"
    },
    "tags": []
   },
   "outputs": [
    {
     "name": "stdout",
     "output_type": "stream",
     "text": [
      "<class 'pandas.core.frame.DataFrame'>\n",
      "RangeIndex: 1143 entries, 0 to 1142\n",
      "Data columns (total 13 columns):\n",
      " #   Column                Non-Null Count  Dtype  \n",
      "---  ------                --------------  -----  \n",
      " 0   fixed acidity         1143 non-null   float64\n",
      " 1   volatile acidity      1143 non-null   float64\n",
      " 2   citric acid           1143 non-null   float64\n",
      " 3   residual sugar        1143 non-null   float64\n",
      " 4   chlorides             1143 non-null   float64\n",
      " 5   free sulfur dioxide   1143 non-null   float64\n",
      " 6   total sulfur dioxide  1143 non-null   float64\n",
      " 7   density               1143 non-null   float64\n",
      " 8   pH                    1143 non-null   float64\n",
      " 9   sulphates             1143 non-null   float64\n",
      " 10  alcohol               1143 non-null   float64\n",
      " 11  quality               1143 non-null   int64  \n",
      " 12  Id                    1143 non-null   int64  \n",
      "dtypes: float64(11), int64(2)\n",
      "memory usage: 116.2 KB\n"
     ]
    }
   ],
   "source": [
    "df.info()"
   ]
  },
  {
   "cell_type": "code",
   "execution_count": 4,
   "id": "57c51a25",
   "metadata": {
    "execution": {
     "iopub.execute_input": "2023-02-19T14:37:18.975103Z",
     "iopub.status.busy": "2023-02-19T14:37:18.974599Z",
     "iopub.status.idle": "2023-02-19T14:37:18.984044Z",
     "shell.execute_reply": "2023-02-19T14:37:18.982855Z"
    },
    "papermill": {
     "duration": 0.025238,
     "end_time": "2023-02-19T14:37:18.986561",
     "exception": false,
     "start_time": "2023-02-19T14:37:18.961323",
     "status": "completed"
    },
    "tags": []
   },
   "outputs": [
    {
     "data": {
      "text/plain": [
       "5    483\n",
       "6    462\n",
       "7    143\n",
       "4     33\n",
       "8     16\n",
       "3      6\n",
       "Name: quality, dtype: int64"
      ]
     },
     "execution_count": 4,
     "metadata": {},
     "output_type": "execute_result"
    }
   ],
   "source": [
    "df['quality'].value_counts()"
   ]
  },
  {
   "cell_type": "code",
   "execution_count": 5,
   "id": "40a2ba25",
   "metadata": {
    "execution": {
     "iopub.execute_input": "2023-02-19T14:37:19.012298Z",
     "iopub.status.busy": "2023-02-19T14:37:19.011820Z",
     "iopub.status.idle": "2023-02-19T14:37:19.019675Z",
     "shell.execute_reply": "2023-02-19T14:37:19.018499Z"
    },
    "papermill": {
     "duration": 0.023686,
     "end_time": "2023-02-19T14:37:19.022068",
     "exception": false,
     "start_time": "2023-02-19T14:37:18.998382",
     "status": "completed"
    },
    "tags": []
   },
   "outputs": [],
   "source": [
    "x = df.drop(columns = 'quality')\n",
    "y = df['quality']"
   ]
  },
  {
   "cell_type": "code",
   "execution_count": 6,
   "id": "bc6012cf",
   "metadata": {
    "execution": {
     "iopub.execute_input": "2023-02-19T14:37:19.047676Z",
     "iopub.status.busy": "2023-02-19T14:37:19.047220Z",
     "iopub.status.idle": "2023-02-19T14:37:20.322549Z",
     "shell.execute_reply": "2023-02-19T14:37:20.321072Z"
    },
    "papermill": {
     "duration": 1.291495,
     "end_time": "2023-02-19T14:37:20.325509",
     "exception": false,
     "start_time": "2023-02-19T14:37:19.034014",
     "status": "completed"
    },
    "tags": []
   },
   "outputs": [],
   "source": [
    "from sklearn.model_selection import train_test_split"
   ]
  },
  {
   "cell_type": "code",
   "execution_count": 7,
   "id": "95bc0ee0",
   "metadata": {
    "execution": {
     "iopub.execute_input": "2023-02-19T14:37:20.354544Z",
     "iopub.status.busy": "2023-02-19T14:37:20.353822Z",
     "iopub.status.idle": "2023-02-19T14:37:20.564832Z",
     "shell.execute_reply": "2023-02-19T14:37:20.563665Z"
    },
    "papermill": {
     "duration": 0.227226,
     "end_time": "2023-02-19T14:37:20.567477",
     "exception": false,
     "start_time": "2023-02-19T14:37:20.340251",
     "status": "completed"
    },
    "tags": []
   },
   "outputs": [],
   "source": [
    "import seaborn as sns"
   ]
  },
  {
   "cell_type": "code",
   "execution_count": 8,
   "id": "aacdccb9",
   "metadata": {
    "execution": {
     "iopub.execute_input": "2023-02-19T14:37:20.592928Z",
     "iopub.status.busy": "2023-02-19T14:37:20.592186Z",
     "iopub.status.idle": "2023-02-19T14:37:20.775351Z",
     "shell.execute_reply": "2023-02-19T14:37:20.774468Z"
    },
    "papermill": {
     "duration": 0.198799,
     "end_time": "2023-02-19T14:37:20.777826",
     "exception": false,
     "start_time": "2023-02-19T14:37:20.579027",
     "status": "completed"
    },
    "tags": []
   },
   "outputs": [
    {
     "data": {
      "text/plain": [
       "<AxesSubplot:xlabel='quality', ylabel='count'>"
      ]
     },
     "execution_count": 8,
     "metadata": {},
     "output_type": "execute_result"
    },
    {
     "data": {
      "image/png": "[encoded data removed]",
      "text/plain": [
       "<Figure size 432x288 with 1 Axes>"
      ]
     },
     "metadata": {
      "needs_background": "light"
     },
     "output_type": "display_data"
    }
   ],
   "source": [
    "sns.countplot(x='quality',data=df)"
   ]
  },
  {
   "cell_type": "code",
   "execution_count": 9,
   "id": "fe625d8f",
   "metadata": {
    "execution": {
     "iopub.execute_input": "2023-02-19T14:37:20.806067Z",
     "iopub.status.busy": "2023-02-19T14:37:20.803613Z",
     "iopub.status.idle": "2023-02-19T14:37:21.218112Z",
     "shell.execute_reply": "2023-02-19T14:37:21.216158Z"
    },
    "papermill": {
     "duration": 0.431235,
     "end_time": "2023-02-19T14:37:21.221041",
     "exception": false,
     "start_time": "2023-02-19T14:37:20.789806",
     "status": "completed"
    },
    "tags": []
   },
   "outputs": [],
   "source": [
    "from imblearn.over_sampling import SMOTE"
   ]
  },
  {
   "cell_type": "code",
   "execution_count": 10,
   "id": "88ebad1d",
   "metadata": {
    "execution": {
     "iopub.execute_input": "2023-02-19T14:37:21.247931Z",
     "iopub.status.busy": "2023-02-19T14:37:21.247205Z",
     "iopub.status.idle": "2023-02-19T14:37:21.252191Z",
     "shell.execute_reply": "2023-02-19T14:37:21.251026Z"
    },
    "papermill": {
     "duration": 0.020818,
     "end_time": "2023-02-19T14:37:21.254504",
     "exception": false,
     "start_time": "2023-02-19T14:37:21.233686",
     "status": "completed"
    },
    "tags": []
   },
   "outputs": [],
   "source": [
    "smote = SMOTE()"
   ]
  },
  {
   "cell_type": "code",
   "execution_count": 11,
   "id": "78830bbd",
   "metadata": {
    "execution": {
     "iopub.execute_input": "2023-02-19T14:37:21.280240Z",
     "iopub.status.busy": "2023-02-19T14:37:21.279763Z",
     "iopub.status.idle": "2023-02-19T14:37:21.304381Z",
     "shell.execute_reply": "2023-02-19T14:37:21.303460Z"
    },
    "papermill": {
     "duration": 0.040713,
     "end_time": "2023-02-19T14:37:21.307055",
     "exception": false,
     "start_time": "2023-02-19T14:37:21.266342",
     "status": "completed"
    },
    "tags": []
   },
   "outputs": [],
   "source": [
    "x_smote,y_smote = smote.fit_resample(x,y)"
   ]
  },
  {
   "cell_type": "code",
   "execution_count": 12,
   "id": "eeafcb5a",
   "metadata": {
    "execution": {
     "iopub.execute_input": "2023-02-19T14:37:21.332541Z",
     "iopub.status.busy": "2023-02-19T14:37:21.332083Z",
     "iopub.status.idle": "2023-02-19T14:37:21.337231Z",
     "shell.execute_reply": "2023-02-19T14:37:21.336063Z"
    },
    "papermill": {
     "duration": 0.020813,
     "end_time": "2023-02-19T14:37:21.339748",
     "exception": false,
     "start_time": "2023-02-19T14:37:21.318935",
     "status": "completed"
    },
    "tags": []
   },
   "outputs": [],
   "source": [
    "from collections import Counter "
   ]
  },
  {
   "cell_type": "code",
   "execution_count": 13,
   "id": "9d58d72d",
   "metadata": {
    "execution": {
     "iopub.execute_input": "2023-02-19T14:37:21.366024Z",
     "iopub.status.busy": "2023-02-19T14:37:21.365138Z",
     "iopub.status.idle": "2023-02-19T14:37:21.374151Z",
     "shell.execute_reply": "2023-02-19T14:37:21.372901Z"
    },
    "papermill": {
     "duration": 0.025065,
     "end_time": "2023-02-19T14:37:21.376657",
     "exception": false,
     "start_time": "2023-02-19T14:37:21.351592",
     "status": "completed"
    },
    "tags": []
   },
   "outputs": [
    {
     "data": {
      "text/plain": [
       "Counter({5: 483, 6: 483, 7: 483, 4: 483, 8: 483, 3: 483})"
      ]
     },
     "execution_count": 13,
     "metadata": {},
     "output_type": "execute_result"
    }
   ],
   "source": [
    "Counter(y_smote)"
   ]
  },
  {
   "cell_type": "code",
   "execution_count": 14,
   "id": "e00fc5b7",
   "metadata": {
    "execution": {
     "iopub.execute_input": "2023-02-19T14:37:21.402389Z",
     "iopub.status.busy": "2023-02-19T14:37:21.401923Z",
     "iopub.status.idle": "2023-02-19T14:37:21.410181Z",
     "shell.execute_reply": "2023-02-19T14:37:21.409281Z"
    },
    "papermill": {
     "duration": 0.023737,
     "end_time": "2023-02-19T14:37:21.412372",
     "exception": false,
     "start_time": "2023-02-19T14:37:21.388635",
     "status": "completed"
    },
    "tags": []
   },
   "outputs": [],
   "source": [
    "x_train,x_test,y_train,y_test = train_test_split(x_smote,y_smote,test_size = 0.05,random_state = 123)"
   ]
  },
  {
   "cell_type": "code",
   "execution_count": 15,
   "id": "7cbb75b5",
   "metadata": {
    "execution": {
     "iopub.execute_input": "2023-02-19T14:37:21.438461Z",
     "iopub.status.busy": "2023-02-19T14:37:21.438037Z",
     "iopub.status.idle": "2023-02-19T14:37:21.445415Z",
     "shell.execute_reply": "2023-02-19T14:37:21.444182Z"
    },
    "papermill": {
     "duration": 0.023393,
     "end_time": "2023-02-19T14:37:21.447717",
     "exception": false,
     "start_time": "2023-02-19T14:37:21.424324",
     "status": "completed"
    },
    "tags": []
   },
   "outputs": [
    {
     "data": {
      "text/plain": [
       "(2753, 12)"
      ]
     },
     "execution_count": 15,
     "metadata": {},
     "output_type": "execute_result"
    }
   ],
   "source": [
    "x_train.shape"
   ]
  },
  {
   "cell_type": "code",
   "execution_count": 16,
   "id": "214919fc",
   "metadata": {
    "execution": {
     "iopub.execute_input": "2023-02-19T14:37:21.474779Z",
     "iopub.status.busy": "2023-02-19T14:37:21.473935Z",
     "iopub.status.idle": "2023-02-19T14:37:21.480485Z",
     "shell.execute_reply": "2023-02-19T14:37:21.479402Z"
    },
    "papermill": {
     "duration": 0.022537,
     "end_time": "2023-02-19T14:37:21.482937",
     "exception": false,
     "start_time": "2023-02-19T14:37:21.460400",
     "status": "completed"
    },
    "tags": []
   },
   "outputs": [
    {
     "data": {
      "text/plain": [
       "(145, 12)"
      ]
     },
     "execution_count": 16,
     "metadata": {},
     "output_type": "execute_result"
    }
   ],
   "source": [
    "x_test.shape"
   ]
  },
  {
   "cell_type": "code",
   "execution_count": 17,
   "id": "c641fcd2",
   "metadata": {
    "execution": {
     "iopub.execute_input": "2023-02-19T14:37:21.509383Z",
     "iopub.status.busy": "2023-02-19T14:37:21.508976Z",
     "iopub.status.idle": "2023-02-19T14:37:21.516135Z",
     "shell.execute_reply": "2023-02-19T14:37:21.515037Z"
    },
    "papermill": {
     "duration": 0.023351,
     "end_time": "2023-02-19T14:37:21.518655",
     "exception": false,
     "start_time": "2023-02-19T14:37:21.495304",
     "status": "completed"
    },
    "tags": []
   },
   "outputs": [
    {
     "data": {
      "text/plain": [
       "(145,)"
      ]
     },
     "execution_count": 17,
     "metadata": {},
     "output_type": "execute_result"
    }
   ],
   "source": [
    "y_test.shape"
   ]
  },
  {
   "cell_type": "code",
   "execution_count": 18,
   "id": "bd7695f0",
   "metadata": {
    "execution": {
     "iopub.execute_input": "2023-02-19T14:37:21.546298Z",
     "iopub.status.busy": "2023-02-19T14:37:21.545408Z",
     "iopub.status.idle": "2023-02-19T14:37:21.552141Z",
     "shell.execute_reply": "2023-02-19T14:37:21.551279Z"
    },
    "papermill": {
     "duration": 0.023357,
     "end_time": "2023-02-19T14:37:21.554530",
     "exception": false,
     "start_time": "2023-02-19T14:37:21.531173",
     "status": "completed"
    },
    "tags": []
   },
   "outputs": [
    {
     "data": {
      "text/plain": [
       "(2753,)"
      ]
     },
     "execution_count": 18,
     "metadata": {},
     "output_type": "execute_result"
    }
   ],
   "source": [
    "y_train.shape"
   ]
  },
  {
   "cell_type": "code",
   "execution_count": 19,
   "id": "082dad39",
   "metadata": {
    "execution": {
     "iopub.execute_input": "2023-02-19T14:37:21.582255Z",
     "iopub.status.busy": "2023-02-19T14:37:21.581781Z",
     "iopub.status.idle": "2023-02-19T14:37:21.586836Z",
     "shell.execute_reply": "2023-02-19T14:37:21.585750Z"
    },
    "papermill": {
     "duration": 0.02126,
     "end_time": "2023-02-19T14:37:21.589099",
     "exception": false,
     "start_time": "2023-02-19T14:37:21.567839",
     "status": "completed"
    },
    "tags": []
   },
   "outputs": [],
   "source": [
    "from sklearn.ensemble import AdaBoostClassifier,GradientBoostingClassifier"
   ]
  },
  {
   "cell_type": "code",
   "execution_count": 20,
   "id": "939870fc",
   "metadata": {
    "execution": {
     "iopub.execute_input": "2023-02-19T14:37:21.615933Z",
     "iopub.status.busy": "2023-02-19T14:37:21.615424Z",
     "iopub.status.idle": "2023-02-19T14:37:22.583558Z",
     "shell.execute_reply": "2023-02-19T14:37:22.582200Z"
    },
    "papermill": {
     "duration": 0.984971,
     "end_time": "2023-02-19T14:37:22.586429",
     "exception": false,
     "start_time": "2023-02-19T14:37:21.601458",
     "status": "completed"
    },
    "tags": []
   },
   "outputs": [
    {
     "data": {
      "text/html": [
       "<style type='text/css'>\n",
       ".datatable table.frame { margin-bottom: 0; }\n",
       ".datatable table.frame thead { border-bottom: none; }\n",
       ".datatable table.frame tr.coltypes td {  color: #FFFFFF;  line-height: 6px;  padding: 0 0.5em;}\n",
       ".datatable .bool    { background: #DDDD99; }\n",
       ".datatable .object  { background: #565656; }\n",
       ".datatable .int     { background: #5D9E5D; }\n",
       ".datatable .float   { background: #4040CC; }\n",
       ".datatable .str     { background: #CC4040; }\n",
       ".datatable .time    { background: #40CC40; }\n",
       ".datatable .row_index {  background: var(--jp-border-color3);  border-right: 1px solid var(--jp-border-color0);  color: var(--jp-ui-font-color3);  font-size: 9px;}\n",
       ".datatable .frame tbody td { text-align: left; }\n",
       ".datatable .frame tr.coltypes .row_index {  background: var(--jp-border-color0);}\n",
       ".datatable th:nth-child(2) { padding-left: 12px; }\n",
       ".datatable .hellipsis {  color: var(--jp-cell-editor-border-color);}\n",
       ".datatable .vellipsis {  background: var(--jp-layout-color0);  color: var(--jp-cell-editor-border-color);}\n",
       ".datatable .na {  color: var(--jp-cell-editor-border-color);  font-size: 80%;}\n",
       ".datatable .sp {  opacity: 0.25;}\n",
       ".datatable .footer { font-size: 9px; }\n",
       ".datatable .frame_dimensions {  background: var(--jp-border-color3);  border-top: 1px solid var(--jp-border-color0);  color: var(--jp-ui-font-color3);  display: inline-block;  opacity: 0.6;  padding: 1px 10px 1px 5px;}\n",
       "</style>\n"
      ],
      "text/plain": [
       "<IPython.core.display.HTML object>"
      ]
     },
     "metadata": {},
     "output_type": "display_data"
    }
   ],
   "source": [
    "from lightgbm import LGBMClassifier"
   ]
  },
  {
   "cell_type": "code",
   "execution_count": 21,
   "id": "b81cc50c",
   "metadata": {
    "execution": {
     "iopub.execute_input": "2023-02-19T14:37:22.614272Z",
     "iopub.status.busy": "2023-02-19T14:37:22.613671Z",
     "iopub.status.idle": "2023-02-19T14:37:22.766017Z",
     "shell.execute_reply": "2023-02-19T14:37:22.764583Z"
    },
    "papermill": {
     "duration": 0.169617,
     "end_time": "2023-02-19T14:37:22.768909",
     "exception": false,
     "start_time": "2023-02-19T14:37:22.599292",
     "status": "completed"
    },
    "tags": []
   },
   "outputs": [],
   "source": [
    "from xgboost import XGBClassifier"
   ]
  },
  {
   "cell_type": "code",
   "execution_count": 22,
   "id": "fab7d962",
   "metadata": {
    "execution": {
     "iopub.execute_input": "2023-02-19T14:37:22.796441Z",
     "iopub.status.busy": "2023-02-19T14:37:22.795988Z",
     "iopub.status.idle": "2023-02-19T14:37:23.053123Z",
     "shell.execute_reply": "2023-02-19T14:37:23.051767Z"
    },
    "papermill": {
     "duration": 0.274774,
     "end_time": "2023-02-19T14:37:23.056391",
     "exception": false,
     "start_time": "2023-02-19T14:37:22.781617",
     "status": "completed"
    },
    "tags": []
   },
   "outputs": [],
   "source": [
    "from catboost import CatBoostClassifier"
   ]
  },
  {
   "cell_type": "markdown",
   "id": "573f40c4",
   "metadata": {
    "papermill": {
     "duration": 0.012735,
     "end_time": "2023-02-19T14:37:23.082219",
     "exception": false,
     "start_time": "2023-02-19T14:37:23.069484",
     "status": "completed"
    },
    "tags": []
   },
   "source": [
    "**ADA Boost Classifer**"
   ]
  },
  {
   "cell_type": "code",
   "execution_count": 23,
   "id": "6a3a11d8",
   "metadata": {
    "execution": {
     "iopub.execute_input": "2023-02-19T14:37:23.109626Z",
     "iopub.status.busy": "2023-02-19T14:37:23.109194Z",
     "iopub.status.idle": "2023-02-19T14:37:23.434382Z",
     "shell.execute_reply": "2023-02-19T14:37:23.433143Z"
    },
    "papermill": {
     "duration": 0.341581,
     "end_time": "2023-02-19T14:37:23.436849",
     "exception": false,
     "start_time": "2023-02-19T14:37:23.095268",
     "status": "completed"
    },
    "tags": []
   },
   "outputs": [
    {
     "data": {
      "text/plain": [
       "AdaBoostClassifier()"
      ]
     },
     "execution_count": 23,
     "metadata": {},
     "output_type": "execute_result"
    }
   ],
   "source": [
    "ada = AdaBoostClassifier()\n",
    "ada.fit(x_train,y_train)"
   ]
  },
  {
   "cell_type": "code",
   "execution_count": 24,
   "id": "cf0d7fd9",
   "metadata": {
    "execution": {
     "iopub.execute_input": "2023-02-19T14:37:23.464618Z",
     "iopub.status.busy": "2023-02-19T14:37:23.463643Z",
     "iopub.status.idle": "2023-02-19T14:37:23.481142Z",
     "shell.execute_reply": "2023-02-19T14:37:23.480137Z"
    },
    "papermill": {
     "duration": 0.034268,
     "end_time": "2023-02-19T14:37:23.483802",
     "exception": false,
     "start_time": "2023-02-19T14:37:23.449534",
     "status": "completed"
    },
    "tags": []
   },
   "outputs": [],
   "source": [
    "yadapred = ada.predict(x_test)"
   ]
  },
  {
   "cell_type": "code",
   "execution_count": 25,
   "id": "dc953e10",
   "metadata": {
    "execution": {
     "iopub.execute_input": "2023-02-19T14:37:23.511856Z",
     "iopub.status.busy": "2023-02-19T14:37:23.510520Z",
     "iopub.status.idle": "2023-02-19T14:37:23.516566Z",
     "shell.execute_reply": "2023-02-19T14:37:23.515626Z"
    },
    "papermill": {
     "duration": 0.02276,
     "end_time": "2023-02-19T14:37:23.519126",
     "exception": false,
     "start_time": "2023-02-19T14:37:23.496366",
     "status": "completed"
    },
    "tags": []
   },
   "outputs": [],
   "source": [
    "from sklearn.metrics import classification_report\n"
   ]
  },
  {
   "cell_type": "code",
   "execution_count": 26,
   "id": "82effd6f",
   "metadata": {
    "execution": {
     "iopub.execute_input": "2023-02-19T14:37:23.546744Z",
     "iopub.status.busy": "2023-02-19T14:37:23.545903Z",
     "iopub.status.idle": "2023-02-19T14:37:23.562364Z",
     "shell.execute_reply": "2023-02-19T14:37:23.560773Z"
    },
    "papermill": {
     "duration": 0.033736,
     "end_time": "2023-02-19T14:37:23.565496",
     "exception": false,
     "start_time": "2023-02-19T14:37:23.531760",
     "status": "completed"
    },
    "tags": []
   },
   "outputs": [
    {
     "name": "stdout",
     "output_type": "stream",
     "text": [
      "              precision    recall  f1-score   support\n",
      "\n",
      "           3       0.40      1.00      0.57        23\n",
      "           4       0.00      0.00      0.00        23\n",
      "           5       0.00      0.00      0.00        21\n",
      "           6       0.00      0.00      0.00        25\n",
      "           7       0.29      0.89      0.43        27\n",
      "           8       0.50      0.08      0.13        26\n",
      "\n",
      "    accuracy                           0.34       145\n",
      "   macro avg       0.20      0.33      0.19       145\n",
      "weighted avg       0.21      0.34      0.20       145\n",
      "\n"
     ]
    },
    {
     "name": "stderr",
     "output_type": "stream",
     "text": [
      "/opt/conda/lib/python3.7/site-packages/sklearn/metrics/_classification.py:1318: UndefinedMetricWarning: Precision and F-score are ill-defined and being set to 0.0 in labels with no predicted samples. Use `zero_division` parameter to control this behavior.\n",
      "  _warn_prf(average, modifier, msg_start, len(result))\n",
      "/opt/conda/lib/python3.7/site-packages/sklearn/metrics/_classification.py:1318: UndefinedMetricWarning: Precision and F-score are ill-defined and being set to 0.0 in labels with no predicted samples. Use `zero_division` parameter to control this behavior.\n",
      "  _warn_prf(average, modifier, msg_start, len(result))\n",
      "/opt/conda/lib/python3.7/site-packages/sklearn/metrics/_classification.py:1318: UndefinedMetricWarning: Precision and F-score are ill-defined and being set to 0.0 in labels with no predicted samples. Use `zero_division` parameter to control this behavior.\n",
      "  _warn_prf(average, modifier, msg_start, len(result))\n"
     ]
    }
   ],
   "source": [
    "cls1 = classification_report(y_test,yadapred)\n",
    "print(cls1)"
   ]
  },
  {
   "cell_type": "markdown",
   "id": "73c7ad97",
   "metadata": {
    "execution": {
     "iopub.execute_input": "2022-08-21T10:44:32.851151Z",
     "iopub.status.busy": "2022-08-21T10:44:32.850693Z",
     "iopub.status.idle": "2022-08-21T10:44:32.858743Z",
     "shell.execute_reply": "2022-08-21T10:44:32.857368Z",
     "shell.execute_reply.started": "2022-08-21T10:44:32.851119Z"
    },
    "papermill": {
     "duration": 0.012334,
     "end_time": "2023-02-19T14:37:23.591646",
     "exception": false,
     "start_time": "2023-02-19T14:37:23.579312",
     "status": "completed"
    },
    "tags": []
   },
   "source": [
    "**Gradient Boosting Classifier**"
   ]
  },
  {
   "cell_type": "code",
   "execution_count": 27,
   "id": "14a060fa",
   "metadata": {
    "execution": {
     "iopub.execute_input": "2023-02-19T14:37:23.619918Z",
     "iopub.status.busy": "2023-02-19T14:37:23.618846Z",
     "iopub.status.idle": "2023-02-19T14:37:29.812547Z",
     "shell.execute_reply": "2023-02-19T14:37:29.811271Z"
    },
    "papermill": {
     "duration": 6.211078,
     "end_time": "2023-02-19T14:37:29.815343",
     "exception": false,
     "start_time": "2023-02-19T14:37:23.604265",
     "status": "completed"
    },
    "tags": []
   },
   "outputs": [
    {
     "data": {
      "text/plain": [
       "GradientBoostingClassifier()"
      ]
     },
     "execution_count": 27,
     "metadata": {},
     "output_type": "execute_result"
    }
   ],
   "source": [
    "gbc = GradientBoostingClassifier()\n",
    "gbc.fit(x_train,y_train)"
   ]
  },
  {
   "cell_type": "code",
   "execution_count": 28,
   "id": "9411b1dd",
   "metadata": {
    "execution": {
     "iopub.execute_input": "2023-02-19T14:37:29.843462Z",
     "iopub.status.busy": "2023-02-19T14:37:29.843049Z",
     "iopub.status.idle": "2023-02-19T14:37:29.852929Z",
     "shell.execute_reply": "2023-02-19T14:37:29.851782Z"
    },
    "papermill": {
     "duration": 0.026651,
     "end_time": "2023-02-19T14:37:29.855230",
     "exception": false,
     "start_time": "2023-02-19T14:37:29.828579",
     "status": "completed"
    },
    "tags": []
   },
   "outputs": [],
   "source": [
    "ygbpred = gbc.predict(x_test)"
   ]
  },
  {
   "cell_type": "code",
   "execution_count": 29,
   "id": "32ba6ecc",
   "metadata": {
    "execution": {
     "iopub.execute_input": "2023-02-19T14:37:29.883204Z",
     "iopub.status.busy": "2023-02-19T14:37:29.882770Z",
     "iopub.status.idle": "2023-02-19T14:37:29.894087Z",
     "shell.execute_reply": "2023-02-19T14:37:29.892200Z"
    },
    "papermill": {
     "duration": 0.02835,
     "end_time": "2023-02-19T14:37:29.896629",
     "exception": false,
     "start_time": "2023-02-19T14:37:29.868279",
     "status": "completed"
    },
    "tags": []
   },
   "outputs": [
    {
     "name": "stdout",
     "output_type": "stream",
     "text": [
      "              precision    recall  f1-score   support\n",
      "\n",
      "           3       0.96      1.00      0.98        23\n",
      "           4       0.90      0.83      0.86        23\n",
      "           5       0.61      0.52      0.56        21\n",
      "           6       0.46      0.44      0.45        25\n",
      "           7       0.74      0.85      0.79        27\n",
      "           8       0.93      0.96      0.94        26\n",
      "\n",
      "    accuracy                           0.77       145\n",
      "   macro avg       0.77      0.77      0.77       145\n",
      "weighted avg       0.77      0.77      0.77       145\n",
      "\n"
     ]
    }
   ],
   "source": [
    "cls1 = classification_report(y_test,ygbpred)\n",
    "print(cls1)"
   ]
  },
  {
   "cell_type": "markdown",
   "id": "44fb0c4a",
   "metadata": {
    "papermill": {
     "duration": 0.013394,
     "end_time": "2023-02-19T14:37:29.923064",
     "exception": false,
     "start_time": "2023-02-19T14:37:29.909670",
     "status": "completed"
    },
    "tags": []
   },
   "source": [
    "**Light Boosting Gradient**"
   ]
  },
  {
   "cell_type": "code",
   "execution_count": 30,
   "id": "746ebb6b",
   "metadata": {
    "execution": {
     "iopub.execute_input": "2023-02-19T14:37:29.951319Z",
     "iopub.status.busy": "2023-02-19T14:37:29.950915Z",
     "iopub.status.idle": "2023-02-19T14:37:31.982518Z",
     "shell.execute_reply": "2023-02-19T14:37:31.981581Z"
    },
    "papermill": {
     "duration": 2.049256,
     "end_time": "2023-02-19T14:37:31.985358",
     "exception": false,
     "start_time": "2023-02-19T14:37:29.936102",
     "status": "completed"
    },
    "tags": []
   },
   "outputs": [
    {
     "data": {
      "text/plain": [
       "LGBMClassifier()"
      ]
     },
     "execution_count": 30,
     "metadata": {},
     "output_type": "execute_result"
    }
   ],
   "source": [
    "lgbm = LGBMClassifier()\n",
    "lgbm.fit(x_train,y_train)"
   ]
  },
  {
   "cell_type": "code",
   "execution_count": 31,
   "id": "1bfa1acd",
   "metadata": {
    "execution": {
     "iopub.execute_input": "2023-02-19T14:37:32.014143Z",
     "iopub.status.busy": "2023-02-19T14:37:32.013654Z",
     "iopub.status.idle": "2023-02-19T14:37:32.026433Z",
     "shell.execute_reply": "2023-02-19T14:37:32.025201Z"
    },
    "papermill": {
     "duration": 0.030558,
     "end_time": "2023-02-19T14:37:32.029482",
     "exception": false,
     "start_time": "2023-02-19T14:37:31.998924",
     "status": "completed"
    },
    "tags": []
   },
   "outputs": [],
   "source": [
    "ylgbmpred = lgbm.predict(x_test)"
   ]
  },
  {
   "cell_type": "code",
   "execution_count": 32,
   "id": "b7eb489b",
   "metadata": {
    "execution": {
     "iopub.execute_input": "2023-02-19T14:37:32.059439Z",
     "iopub.status.busy": "2023-02-19T14:37:32.059042Z",
     "iopub.status.idle": "2023-02-19T14:37:32.069000Z",
     "shell.execute_reply": "2023-02-19T14:37:32.067769Z"
    },
    "papermill": {
     "duration": 0.026823,
     "end_time": "2023-02-19T14:37:32.071923",
     "exception": false,
     "start_time": "2023-02-19T14:37:32.045100",
     "status": "completed"
    },
    "tags": []
   },
   "outputs": [
    {
     "name": "stdout",
     "output_type": "stream",
     "text": [
      "              precision    recall  f1-score   support\n",
      "\n",
      "           3       1.00      1.00      1.00        23\n",
      "           4       0.95      0.83      0.88        23\n",
      "           5       0.72      0.62      0.67        21\n",
      "           6       0.67      0.72      0.69        25\n",
      "           7       0.84      0.96      0.90        27\n",
      "           8       1.00      1.00      1.00        26\n",
      "\n",
      "    accuracy                           0.86       145\n",
      "   macro avg       0.86      0.85      0.86       145\n",
      "weighted avg       0.86      0.86      0.86       145\n",
      "\n"
     ]
    }
   ],
   "source": [
    "cls1 = classification_report(y_test,ylgbmpred)\n",
    "print(cls1)"
   ]
  },
  {
   "cell_type": "markdown",
   "id": "1b4d98d3",
   "metadata": {
    "papermill": {
     "duration": 0.012462,
     "end_time": "2023-02-19T14:37:32.097990",
     "exception": false,
     "start_time": "2023-02-19T14:37:32.085528",
     "status": "completed"
    },
    "tags": []
   },
   "source": [
    "**Cat Boost Classifier**"
   ]
  },
  {
   "cell_type": "code",
   "execution_count": 33,
   "id": "4e0c6b36",
   "metadata": {
    "execution": {
     "iopub.execute_input": "2023-02-19T14:37:32.126092Z",
     "iopub.status.busy": "2023-02-19T14:37:32.125265Z",
     "iopub.status.idle": "2023-02-19T14:37:33.313030Z",
     "shell.execute_reply": "2023-02-19T14:37:33.311370Z"
    },
    "papermill": {
     "duration": 1.204771,
     "end_time": "2023-02-19T14:37:33.315668",
     "exception": false,
     "start_time": "2023-02-19T14:37:32.110897",
     "status": "completed"
    },
    "tags": []
   },
   "outputs": [
    {
     "name": "stdout",
     "output_type": "stream",
     "text": [
      "Learning rate set to 0.5\n",
      "0:\tlearn: 1.3290632\ttotal: 74.1ms\tremaining: 7.34s\n",
      "1:\tlearn: 1.1412493\ttotal: 86.1ms\tremaining: 4.22s\n",
      "2:\tlearn: 1.0089702\ttotal: 97.9ms\tremaining: 3.17s\n",
      "3:\tlearn: 0.9208731\ttotal: 108ms\tremaining: 2.6s\n",
      "4:\tlearn: 0.8403422\ttotal: 118ms\tremaining: 2.24s\n",
      "5:\tlearn: 0.7828277\ttotal: 127ms\tremaining: 1.99s\n",
      "6:\tlearn: 0.7352171\ttotal: 137ms\tremaining: 1.82s\n",
      "7:\tlearn: 0.6976839\ttotal: 146ms\tremaining: 1.68s\n",
      "8:\tlearn: 0.6640536\ttotal: 156ms\tremaining: 1.57s\n",
      "9:\tlearn: 0.6355504\ttotal: 168ms\tremaining: 1.51s\n",
      "10:\tlearn: 0.6098463\ttotal: 177ms\tremaining: 1.44s\n",
      "11:\tlearn: 0.5901677\ttotal: 187ms\tremaining: 1.37s\n",
      "12:\tlearn: 0.5630031\ttotal: 198ms\tremaining: 1.33s\n",
      "13:\tlearn: 0.5464810\ttotal: 209ms\tremaining: 1.28s\n",
      "14:\tlearn: 0.5291924\ttotal: 219ms\tremaining: 1.24s\n",
      "15:\tlearn: 0.5121030\ttotal: 231ms\tremaining: 1.22s\n",
      "16:\tlearn: 0.4972808\ttotal: 241ms\tremaining: 1.18s\n",
      "17:\tlearn: 0.4823631\ttotal: 250ms\tremaining: 1.14s\n",
      "18:\tlearn: 0.4701649\ttotal: 260ms\tremaining: 1.11s\n",
      "19:\tlearn: 0.4607719\ttotal: 269ms\tremaining: 1.08s\n",
      "20:\tlearn: 0.4536578\ttotal: 281ms\tremaining: 1.06s\n",
      "21:\tlearn: 0.4393500\ttotal: 291ms\tremaining: 1.03s\n",
      "22:\tlearn: 0.4316501\ttotal: 300ms\tremaining: 1s\n",
      "23:\tlearn: 0.4223976\ttotal: 310ms\tremaining: 980ms\n",
      "24:\tlearn: 0.4106449\ttotal: 319ms\tremaining: 958ms\n",
      "25:\tlearn: 0.3971768\ttotal: 329ms\tremaining: 936ms\n",
      "26:\tlearn: 0.3911920\ttotal: 338ms\tremaining: 914ms\n",
      "27:\tlearn: 0.3826712\ttotal: 348ms\tremaining: 894ms\n",
      "28:\tlearn: 0.3751716\ttotal: 357ms\tremaining: 874ms\n",
      "29:\tlearn: 0.3716114\ttotal: 366ms\tremaining: 854ms\n",
      "30:\tlearn: 0.3623951\ttotal: 376ms\tremaining: 836ms\n",
      "31:\tlearn: 0.3562427\ttotal: 385ms\tremaining: 819ms\n",
      "32:\tlearn: 0.3471119\ttotal: 395ms\tremaining: 803ms\n",
      "33:\tlearn: 0.3384726\ttotal: 408ms\tremaining: 792ms\n",
      "34:\tlearn: 0.3318241\ttotal: 417ms\tremaining: 775ms\n",
      "35:\tlearn: 0.3220000\ttotal: 427ms\tremaining: 759ms\n",
      "36:\tlearn: 0.3182506\ttotal: 437ms\tremaining: 743ms\n",
      "37:\tlearn: 0.3112604\ttotal: 446ms\tremaining: 728ms\n",
      "38:\tlearn: 0.3043709\ttotal: 456ms\tremaining: 713ms\n",
      "39:\tlearn: 0.2972330\ttotal: 465ms\tremaining: 698ms\n",
      "40:\tlearn: 0.2923678\ttotal: 475ms\tremaining: 683ms\n",
      "41:\tlearn: 0.2887833\ttotal: 486ms\tremaining: 670ms\n",
      "42:\tlearn: 0.2819504\ttotal: 496ms\tremaining: 658ms\n",
      "43:\tlearn: 0.2773613\ttotal: 506ms\tremaining: 644ms\n",
      "44:\tlearn: 0.2745944\ttotal: 516ms\tremaining: 630ms\n",
      "45:\tlearn: 0.2674423\ttotal: 526ms\tremaining: 617ms\n",
      "46:\tlearn: 0.2623231\ttotal: 535ms\tremaining: 603ms\n",
      "47:\tlearn: 0.2568323\ttotal: 546ms\tremaining: 591ms\n",
      "48:\tlearn: 0.2527661\ttotal: 556ms\tremaining: 578ms\n",
      "49:\tlearn: 0.2496221\ttotal: 565ms\tremaining: 565ms\n",
      "50:\tlearn: 0.2451027\ttotal: 574ms\tremaining: 552ms\n",
      "51:\tlearn: 0.2390722\ttotal: 585ms\tremaining: 540ms\n",
      "52:\tlearn: 0.2365151\ttotal: 595ms\tremaining: 527ms\n",
      "53:\tlearn: 0.2332925\ttotal: 605ms\tremaining: 515ms\n",
      "54:\tlearn: 0.2297259\ttotal: 618ms\tremaining: 506ms\n",
      "55:\tlearn: 0.2254771\ttotal: 628ms\tremaining: 493ms\n",
      "56:\tlearn: 0.2203117\ttotal: 638ms\tremaining: 481ms\n",
      "57:\tlearn: 0.2187290\ttotal: 647ms\tremaining: 469ms\n",
      "58:\tlearn: 0.2150139\ttotal: 657ms\tremaining: 457ms\n",
      "59:\tlearn: 0.2121157\ttotal: 667ms\tremaining: 444ms\n",
      "60:\tlearn: 0.2107334\ttotal: 676ms\tremaining: 432ms\n",
      "61:\tlearn: 0.2088796\ttotal: 686ms\tremaining: 420ms\n",
      "62:\tlearn: 0.2070875\ttotal: 697ms\tremaining: 410ms\n",
      "63:\tlearn: 0.2033080\ttotal: 707ms\tremaining: 398ms\n",
      "64:\tlearn: 0.2005189\ttotal: 716ms\tremaining: 386ms\n",
      "65:\tlearn: 0.1985276\ttotal: 726ms\tremaining: 374ms\n",
      "66:\tlearn: 0.1933343\ttotal: 735ms\tremaining: 362ms\n",
      "67:\tlearn: 0.1913296\ttotal: 745ms\tremaining: 350ms\n",
      "68:\tlearn: 0.1888374\ttotal: 754ms\tremaining: 339ms\n",
      "69:\tlearn: 0.1865845\ttotal: 763ms\tremaining: 327ms\n",
      "70:\tlearn: 0.1834471\ttotal: 773ms\tremaining: 316ms\n",
      "71:\tlearn: 0.1814320\ttotal: 783ms\tremaining: 304ms\n",
      "72:\tlearn: 0.1796163\ttotal: 792ms\tremaining: 293ms\n",
      "73:\tlearn: 0.1771458\ttotal: 801ms\tremaining: 282ms\n",
      "74:\tlearn: 0.1755552\ttotal: 811ms\tremaining: 270ms\n",
      "75:\tlearn: 0.1725661\ttotal: 822ms\tremaining: 260ms\n",
      "76:\tlearn: 0.1696735\ttotal: 833ms\tremaining: 249ms\n",
      "77:\tlearn: 0.1676970\ttotal: 843ms\tremaining: 238ms\n",
      "78:\tlearn: 0.1660796\ttotal: 853ms\tremaining: 227ms\n",
      "79:\tlearn: 0.1647228\ttotal: 862ms\tremaining: 215ms\n",
      "80:\tlearn: 0.1627724\ttotal: 871ms\tremaining: 204ms\n",
      "81:\tlearn: 0.1613118\ttotal: 881ms\tremaining: 193ms\n",
      "82:\tlearn: 0.1598781\ttotal: 893ms\tremaining: 183ms\n",
      "83:\tlearn: 0.1569420\ttotal: 903ms\tremaining: 172ms\n",
      "84:\tlearn: 0.1553022\ttotal: 913ms\tremaining: 161ms\n",
      "85:\tlearn: 0.1523144\ttotal: 923ms\tremaining: 150ms\n",
      "86:\tlearn: 0.1508044\ttotal: 933ms\tremaining: 139ms\n",
      "87:\tlearn: 0.1482257\ttotal: 942ms\tremaining: 128ms\n",
      "88:\tlearn: 0.1465538\ttotal: 951ms\tremaining: 118ms\n",
      "89:\tlearn: 0.1450591\ttotal: 961ms\tremaining: 107ms\n",
      "90:\tlearn: 0.1437781\ttotal: 971ms\tremaining: 96ms\n",
      "91:\tlearn: 0.1430883\ttotal: 980ms\tremaining: 85.2ms\n",
      "92:\tlearn: 0.1411047\ttotal: 989ms\tremaining: 74.5ms\n",
      "93:\tlearn: 0.1405182\ttotal: 999ms\tremaining: 63.7ms\n",
      "94:\tlearn: 0.1392248\ttotal: 1.01s\tremaining: 53.1ms\n",
      "95:\tlearn: 0.1378607\ttotal: 1.02s\tremaining: 42.4ms\n",
      "96:\tlearn: 0.1365738\ttotal: 1.03s\tremaining: 31.9ms\n",
      "97:\tlearn: 0.1353785\ttotal: 1.04s\tremaining: 21.3ms\n",
      "98:\tlearn: 0.1346311\ttotal: 1.05s\tremaining: 10.6ms\n",
      "99:\tlearn: 0.1322420\ttotal: 1.06s\tremaining: 0us\n"
     ]
    },
    {
     "data": {
      "text/plain": [
       "<catboost.core.CatBoostClassifier at 0x7f925132fd90>"
      ]
     },
     "execution_count": 33,
     "metadata": {},
     "output_type": "execute_result"
    }
   ],
   "source": [
    "cat = CatBoostClassifier(iterations = 100)\n",
    "cat.fit(x_train,y_train)"
   ]
  },
  {
   "cell_type": "code",
   "execution_count": 34,
   "id": "5e9e41a1",
   "metadata": {
    "execution": {
     "iopub.execute_input": "2023-02-19T14:37:33.345951Z",
     "iopub.status.busy": "2023-02-19T14:37:33.345465Z",
     "iopub.status.idle": "2023-02-19T14:37:33.354993Z",
     "shell.execute_reply": "2023-02-19T14:37:33.353785Z"
    },
    "papermill": {
     "duration": 0.027958,
     "end_time": "2023-02-19T14:37:33.357672",
     "exception": false,
     "start_time": "2023-02-19T14:37:33.329714",
     "status": "completed"
    },
    "tags": []
   },
   "outputs": [],
   "source": [
    "ycatpred = cat.predict(x_test)"
   ]
  },
  {
   "cell_type": "code",
   "execution_count": 35,
   "id": "a07ab20c",
   "metadata": {
    "execution": {
     "iopub.execute_input": "2023-02-19T14:37:33.388121Z",
     "iopub.status.busy": "2023-02-19T14:37:33.387027Z",
     "iopub.status.idle": "2023-02-19T14:37:33.400613Z",
     "shell.execute_reply": "2023-02-19T14:37:33.399020Z"
    },
    "papermill": {
     "duration": 0.032054,
     "end_time": "2023-02-19T14:37:33.403849",
     "exception": false,
     "start_time": "2023-02-19T14:37:33.371795",
     "status": "completed"
    },
    "tags": []
   },
   "outputs": [
    {
     "name": "stdout",
     "output_type": "stream",
     "text": [
      "              precision    recall  f1-score   support\n",
      "\n",
      "           3       1.00      1.00      1.00        23\n",
      "           4       0.95      0.78      0.86        23\n",
      "           5       0.78      0.67      0.72        21\n",
      "           6       0.64      0.64      0.64        25\n",
      "           7       0.76      0.93      0.83        27\n",
      "           8       0.93      0.96      0.94        26\n",
      "\n",
      "    accuracy                           0.83       145\n",
      "   macro avg       0.84      0.83      0.83       145\n",
      "weighted avg       0.84      0.83      0.83       145\n",
      "\n"
     ]
    }
   ],
   "source": [
    "cls1 = classification_report(y_test,ycatpred)\n",
    "print(cls1)"
   ]
  },
  {
   "cell_type": "markdown",
   "id": "a2c86288",
   "metadata": {
    "papermill": {
     "duration": 0.013621,
     "end_time": "2023-02-19T14:37:33.431898",
     "exception": false,
     "start_time": "2023-02-19T14:37:33.418277",
     "status": "completed"
    },
    "tags": []
   },
   "source": [
    "**Extreme Gradient Boosting**"
   ]
  },
  {
   "cell_type": "code",
   "execution_count": 36,
   "id": "1cffb03a",
   "metadata": {
    "execution": {
     "iopub.execute_input": "2023-02-19T14:37:33.462040Z",
     "iopub.status.busy": "2023-02-19T14:37:33.461519Z",
     "iopub.status.idle": "2023-02-19T14:37:33.467360Z",
     "shell.execute_reply": "2023-02-19T14:37:33.466015Z"
    },
    "papermill": {
     "duration": 0.024114,
     "end_time": "2023-02-19T14:37:33.469966",
     "exception": false,
     "start_time": "2023-02-19T14:37:33.445852",
     "status": "completed"
    },
    "tags": []
   },
   "outputs": [],
   "source": [
    "xgb = XGBClassifier()"
   ]
  },
  {
   "cell_type": "code",
   "execution_count": 37,
   "id": "211ef9ad",
   "metadata": {
    "execution": {
     "iopub.execute_input": "2023-02-19T14:37:33.499719Z",
     "iopub.status.busy": "2023-02-19T14:37:33.499284Z",
     "iopub.status.idle": "2023-02-19T14:37:33.505486Z",
     "shell.execute_reply": "2023-02-19T14:37:33.504203Z"
    },
    "papermill": {
     "duration": 0.023788,
     "end_time": "2023-02-19T14:37:33.507867",
     "exception": false,
     "start_time": "2023-02-19T14:37:33.484079",
     "status": "completed"
    },
    "tags": []
   },
   "outputs": [],
   "source": [
    "from sklearn.preprocessing import LabelEncoder\n",
    "le = LabelEncoder()\n",
    "y_train = le.fit_transform(y_train)"
   ]
  },
  {
   "cell_type": "code",
   "execution_count": 38,
   "id": "ec3bfedf",
   "metadata": {
    "execution": {
     "iopub.execute_input": "2023-02-19T14:37:33.538235Z",
     "iopub.status.busy": "2023-02-19T14:37:33.537332Z",
     "iopub.status.idle": "2023-02-19T14:37:33.545317Z",
     "shell.execute_reply": "2023-02-19T14:37:33.544168Z"
    },
    "papermill": {
     "duration": 0.025914,
     "end_time": "2023-02-19T14:37:33.547881",
     "exception": false,
     "start_time": "2023-02-19T14:37:33.521967",
     "status": "completed"
    },
    "tags": []
   },
   "outputs": [],
   "source": [
    "from sklearn.preprocessing import LabelEncoder\n",
    "le = LabelEncoder()\n",
    "y_test = le.fit_transform(y_test)"
   ]
  },
  {
   "cell_type": "code",
   "execution_count": 39,
   "id": "29568705",
   "metadata": {
    "execution": {
     "iopub.execute_input": "2023-02-19T14:37:33.578227Z",
     "iopub.status.busy": "2023-02-19T14:37:33.577797Z",
     "iopub.status.idle": "2023-02-19T14:37:33.586661Z",
     "shell.execute_reply": "2023-02-19T14:37:33.585143Z"
    },
    "papermill": {
     "duration": 0.02745,
     "end_time": "2023-02-19T14:37:33.589342",
     "exception": false,
     "start_time": "2023-02-19T14:37:33.561892",
     "status": "completed"
    },
    "tags": []
   },
   "outputs": [
    {
     "data": {
      "text/plain": [
       "array([3, 1, 4, 0, 5, 2])"
      ]
     },
     "execution_count": 39,
     "metadata": {},
     "output_type": "execute_result"
    }
   ],
   "source": [
    "pd.Series(y_train).unique()"
   ]
  },
  {
   "cell_type": "code",
   "execution_count": 40,
   "id": "6d732c1d",
   "metadata": {
    "execution": {
     "iopub.execute_input": "2023-02-19T14:37:33.620279Z",
     "iopub.status.busy": "2023-02-19T14:37:33.619865Z",
     "iopub.status.idle": "2023-02-19T14:37:35.668095Z",
     "shell.execute_reply": "2023-02-19T14:37:35.667012Z"
    },
    "papermill": {
     "duration": 2.067045,
     "end_time": "2023-02-19T14:37:35.670660",
     "exception": false,
     "start_time": "2023-02-19T14:37:33.603615",
     "status": "completed"
    },
    "tags": []
   },
   "outputs": [
    {
     "data": {
      "text/plain": [
       "XGBClassifier(base_score=0.5, booster='gbtree', callbacks=None,\n",
       "              colsample_bylevel=1, colsample_bynode=1, colsample_bytree=1,\n",
       "              early_stopping_rounds=None, enable_categorical=False,\n",
       "              eval_metric=None, gamma=0, gpu_id=-1, grow_policy='depthwise',\n",
       "              importance_type=None, interaction_constraints='',\n",
       "              learning_rate=0.300000012, max_bin=256, max_cat_to_onehot=4,\n",
       "              max_delta_step=0, max_depth=6, max_leaves=0, min_child_weight=1,\n",
       "              missing=nan, monotone_constraints='()', n_estimators=100,\n",
       "              n_jobs=0, num_parallel_tree=1, objective='multi:softprob',\n",
       "              predictor='auto', random_state=0, reg_alpha=0, ...)"
      ]
     },
     "execution_count": 40,
     "metadata": {},
     "output_type": "execute_result"
    }
   ],
   "source": [
    "xgb.fit(x_train,y_train)"
   ]
  },
  {
   "cell_type": "code",
   "execution_count": 41,
   "id": "340a2913",
   "metadata": {
    "execution": {
     "iopub.execute_input": "2023-02-19T14:37:35.702904Z",
     "iopub.status.busy": "2023-02-19T14:37:35.702417Z",
     "iopub.status.idle": "2023-02-19T14:37:35.716280Z",
     "shell.execute_reply": "2023-02-19T14:37:35.715280Z"
    },
    "papermill": {
     "duration": 0.03281,
     "end_time": "2023-02-19T14:37:35.719223",
     "exception": false,
     "start_time": "2023-02-19T14:37:35.686413",
     "status": "completed"
    },
    "tags": []
   },
   "outputs": [],
   "source": [
    "yxgbpred = xgb.predict(x_test)"
   ]
  },
  {
   "cell_type": "code",
   "execution_count": 42,
   "id": "326d52b6",
   "metadata": {
    "execution": {
     "iopub.execute_input": "2023-02-19T14:37:35.752624Z",
     "iopub.status.busy": "2023-02-19T14:37:35.752119Z",
     "iopub.status.idle": "2023-02-19T14:37:35.764278Z",
     "shell.execute_reply": "2023-02-19T14:37:35.762880Z"
    },
    "papermill": {
     "duration": 0.030801,
     "end_time": "2023-02-19T14:37:35.767050",
     "exception": false,
     "start_time": "2023-02-19T14:37:35.736249",
     "status": "completed"
    },
    "tags": []
   },
   "outputs": [
    {
     "name": "stdout",
     "output_type": "stream",
     "text": [
      "              precision    recall  f1-score   support\n",
      "\n",
      "           0       1.00      1.00      1.00        23\n",
      "           1       0.95      0.83      0.88        23\n",
      "           2       0.76      0.62      0.68        21\n",
      "           3       0.68      0.68      0.68        25\n",
      "           4       0.87      1.00      0.93        27\n",
      "           5       0.90      1.00      0.95        26\n",
      "\n",
      "    accuracy                           0.86       145\n",
      "   macro avg       0.86      0.85      0.85       145\n",
      "weighted avg       0.86      0.86      0.86       145\n",
      "\n"
     ]
    }
   ],
   "source": [
    "cls1 = classification_report(y_test,yxgbpred)\n",
    "print(cls1)"
   ]
  },
  {
   "cell_type": "code",
   "execution_count": null,
   "id": "ed6aff12",
   "metadata": {
    "papermill": {
     "duration": 0.014061,
     "end_time": "2023-02-19T14:37:35.795578",
     "exception": false,
     "start_time": "2023-02-19T14:37:35.781517",
     "status": "completed"
    },
    "tags": []
   },
   "outputs": [],
   "source": []
  }
 ],
 "metadata": {
  "kernelspec": {
   "display_name": "Python 3",
   "language": "python",
   "name": "python3"
  },
  "language_info": {
   "codemirror_mode": {
    "name": "ipython",
    "version": 3
   },
   "file_extension": ".py",
   "mimetype": "text/x-python",
   "name": "python",
   "nbconvert_exporter": "python",
   "pygments_lexer": "ipython3",
   "version": "3.7.12"
  },
  "papermill": {
   "default_parameters": {},
   "duration": 28.971215,
   "end_time": "2023-02-19T14:37:36.733010",
   "environment_variables": {},
   "exception": null,
   "input_path": "__notebook__.ipynb",
   "output_path": "__notebook__.ipynb",
   "parameters": {},
   "start_time": "2023-02-19T14:37:07.761795",
   "version": "2.3.4"
  }
 },
 "nbformat": 4,
 "nbformat_minor": 5
}
